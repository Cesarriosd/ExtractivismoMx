{
 "cells": [
  {
   "cell_type": "code",
   "execution_count": 3,
   "id": "8ab5c619-9b98-419e-91a7-eed4d11fb131",
   "metadata": {},
   "outputs": [
    {
     "name": "stdout",
     "output_type": "stream",
     "text": [
      "no change     /home/ces/anaconda3/condabin/conda\n",
      "no change     /home/ces/anaconda3/bin/conda\n",
      "no change     /home/ces/anaconda3/bin/conda-env\n",
      "no change     /home/ces/anaconda3/bin/activate\n",
      "no change     /home/ces/anaconda3/bin/deactivate\n",
      "no change     /home/ces/anaconda3/etc/profile.d/conda.sh\n",
      "no change     /home/ces/anaconda3/etc/fish/conf.d/conda.fish\n",
      "no change     /home/ces/anaconda3/shell/condabin/Conda.psm1\n",
      "no change     /home/ces/anaconda3/shell/condabin/conda-hook.ps1\n",
      "no change     /home/ces/anaconda3/lib/python3.11/site-packages/xontrib/conda.xsh\n",
      "no change     /home/ces/anaconda3/etc/profile.d/conda.csh\n",
      "no change     /home/ces/.bashrc\n",
      "No action taken.\n"
     ]
    }
   ],
   "source": [
    "!conda init"
   ]
  },
  {
   "cell_type": "code",
   "execution_count": 8,
   "id": "280ea47b-5a1e-42f9-9835-df5777c7dfd5",
   "metadata": {},
   "outputs": [
    {
     "name": "stdout",
     "output_type": "stream",
     "text": [
      "# conda environments:\n",
      "#\n",
      "base                  *  /home/ces/anaconda3\n",
      "Spark                    /home/ces/anaconda3/envs/Spark\n",
      "argame                   /home/ces/anaconda3/envs/argame\n",
      "image_processing         /home/ces/anaconda3/envs/image_processing\n",
      "mlflow                   /home/ces/anaconda3/envs/mlflow\n",
      "object_detection         /home/ces/anaconda3/envs/object_detection\n",
      "plotly                   /home/ces/anaconda3/envs/plotly\n",
      "spark_                   /home/ces/anaconda3/envs/spark_\n",
      "\n"
     ]
    }
   ],
   "source": [
    "!conda env list \n",
    "\n"
   ]
  },
  {
   "cell_type": "code",
   "execution_count": 6,
   "id": "4549a59a-2a76-43d3-98ba-ecfd171e5608",
   "metadata": {},
   "outputs": [
    {
     "ename": "ModuleNotFoundError",
     "evalue": "No module named 'dash'",
     "output_type": "error",
     "traceback": [
      "\u001b[0;31m---------------------------------------------------------------------------\u001b[0m",
      "\u001b[0;31mModuleNotFoundError\u001b[0m                       Traceback (most recent call last)",
      "Cell \u001b[0;32mIn[6], line 1\u001b[0m\n\u001b[0;32m----> 1\u001b[0m \u001b[38;5;28;01mimport\u001b[39;00m \u001b[38;5;21;01mdash\u001b[39;00m\n\u001b[1;32m      2\u001b[0m \u001b[38;5;28;01mfrom\u001b[39;00m \u001b[38;5;21;01mdash\u001b[39;00m \u001b[38;5;28;01mimport\u001b[39;00m dcc, html, Input, Output\n\u001b[1;32m      3\u001b[0m \u001b[38;5;28;01mimport\u001b[39;00m \u001b[38;5;21;01mplotly\u001b[39;00m\u001b[38;5;21;01m.\u001b[39;00m\u001b[38;5;21;01mexpress\u001b[39;00m \u001b[38;5;28;01mas\u001b[39;00m \u001b[38;5;21;01mpx\u001b[39;00m\n",
      "\u001b[0;31mModuleNotFoundError\u001b[0m: No module named 'dash'"
     ]
    }
   ],
   "source": [
    "import dash\n",
    "from dash import dcc, html, Input, Output\n",
    "import plotly.express as px\n",
    "import pandas as pd\n",
    "\n",
    "# Sample data (replace with your data or load from a CSV/database)\n",
    "data = {\n",
    "    \"City\": [\"Mexico City\", \"Guadalajara\", \"Monterrey\", \"Cancun\", \"Tijuana\"],\n",
    "    \"Latitude\": [19.4326, 20.6597, 25.6866, 21.1619, 32.5149],\n",
    "    \"Longitude\": [-99.1332, -103.3496, -100.3161, -86.8515, -117.0382],\n",
    "    \"Population\": [8918653, 1495182, 1135512, 888797, 1300983],\n",
    "    \"Category\": [\"Metropolitan\", \"Metropolitan\", \"Industrial\", \"Tourism\", \"Border\"],\n",
    "}\n",
    "\n",
    "# Create a DataFrame\n",
    "df = pd.DataFrame(data)\n",
    "\n",
    "# Initialize the Dash app\n",
    "app = dash.Dash(__name__)\n",
    "\n",
    "# Layout of the dashboard\n",
    "app.layout = html.Div([\n",
    "    html.H1(\"Mexico Dashboard\", style={\"textAlign\": \"center\"}),\n",
    "    \n",
    "    # Filters\n",
    "    html.Div([\n",
    "        html.Label(\"Filter by Category:\"),\n",
    "        dcc.Dropdown(\n",
    "            id=\"category-filter\",\n",
    "            options=[{\"label\": cat, \"value\": cat} for cat in df[\"Category\"].unique()],\n",
    "            value=None,\n",
    "            multi=True,\n",
    "            placeholder=\"Select a category\"\n",
    "        ),\n",
    "        html.Label(\"Filter by Population Range:\"),\n",
    "        dcc.RangeSlider(\n",
    "            id=\"population-slider\",\n",
    "            min=df[\"Population\"].min(),\n",
    "            max=df[\"Population\"].max(),\n",
    "            step=100000,\n",
    "            marks={i: str(i) for i in range(df[\"Population\"].min(), df[\"Population\"].max() + 1, 500000)},\n",
    "            value=[df[\"Population\"].min(), df[\"Population\"].max()]\n",
    "        ),\n",
    "    ], style={\"margin\": \"20px\"}),\n",
    "    \n",
    "    # Map\n",
    "    dcc.Graph(id=\"mexico-map\"),\n",
    "])\n",
    "\n",
    "# Callback to update the map based on filters\n",
    "@app.callback(\n",
    "    Output(\"mexico-map\", \"figure\"),\n",
    "    [Input(\"category-filter\", \"value\"),\n",
    "     Input(\"population-slider\", \"value\")]\n",
    ")\n",
    "def update_map(selected_categories, population_range):\n",
    "    # Filter data based on selected categories\n",
    "    filtered_df = df.copy()\n",
    "    if selected_categories:\n",
    "        filtered_df = filtered_df[filtered_df[\"Category\"].isin(selected_categories)]\n",
    "    \n",
    "    # Filter data based on population range\n",
    "    filtered_df = filtered_df[\n",
    "        (filtered_df[\"Population\"] >= population_range[0]) &\n",
    "        (filtered_df[\"Population\"] <= population_range[1])\n",
    "    ]\n",
    "    \n",
    "    # Create the map\n",
    "    fig = px.scatter_mapbox(\n",
    "        filtered_df,\n",
    "        lat=\"Latitude\",\n",
    "        lon=\"Longitude\",\n",
    "        hover_name=\"City\",\n",
    "        hover_data=[\"Population\", \"Category\"],\n",
    "        zoom=4,\n",
    "        height=600,\n",
    "        title=\"Map of Mexico\"\n",
    "    )\n",
    "    \n",
    "    # Customize the map style\n",
    "    fig.update_layout(\n",
    "        mapbox_style=\"open-street-map\",\n",
    "        margin={\"r\": 0, \"t\": 0, \"l\": 0, \"b\": 0},\n",
    "    )\n",
    "    \n",
    "    return fig\n",
    "\n",
    "# Run the app\n",
    "if __name__ == \"__main__\":\n",
    "    app.run_server(debug=True)"
   ]
  }
 ],
 "metadata": {
  "kernelspec": {
   "display_name": "Python 3 (ipykernel)",
   "language": "python",
   "name": "python3"
  },
  "language_info": {
   "codemirror_mode": {
    "name": "ipython",
    "version": 3
   },
   "file_extension": ".py",
   "mimetype": "text/x-python",
   "name": "python",
   "nbconvert_exporter": "python",
   "pygments_lexer": "ipython3",
   "version": "3.11.5"
  }
 },
 "nbformat": 4,
 "nbformat_minor": 5
}
